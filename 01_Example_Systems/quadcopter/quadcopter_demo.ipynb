version https://git-lfs.github.com/spec/v1
oid sha256:0709618a3ce7f6369b7b1fe9c8ac331c418c27258f36ace550acd33a3dfac51c
size 292028
