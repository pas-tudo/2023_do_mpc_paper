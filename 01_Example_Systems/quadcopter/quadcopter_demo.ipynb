version https://git-lfs.github.com/spec/v1
oid sha256:a238c18b8100fc1a47fef38c506785b02aed92010754faa481a431b6b38e00b2
size 384531
